{
 "cells": [
  {
   "cell_type": "code",
   "execution_count": 141,
   "id": "a286481e-1ba1-4d8c-a8a4-905579beadfe",
   "metadata": {
    "tags": []
   },
   "outputs": [],
   "source": [
    "from pyspark.sql import SparkSession\n",
    "from pyspark.conf import SparkConf"
   ]
  },
  {
   "cell_type": "code",
   "execution_count": 142,
   "id": "c29c1e02-15c1-4031-9347-322413f97889",
   "metadata": {
    "tags": []
   },
   "outputs": [],
   "source": [
    "spark=SparkSession.builder\\\n",
    "    .master(\"local[*]\")\\\n",
    "    .appName(\"Midterm\")\\\n",
    "    .getOrCreate()\n",
    "spark._jsc.hadoopConfiguration().set(\"google.cloud.auth.service.account.json.keyfile\",\"/home/jovyan/work/flawless-shard-380118-6483865e92cb.json\")"
   ]
  },
  {
   "cell_type": "code",
   "execution_count": 280,
   "id": "41c8f72f-bd4f-48aa-9172-a2aed1f91ddd",
   "metadata": {
    "tags": []
   },
   "outputs": [],
   "source": [
    "bucket_name=\"se413redditcommentsbucket\"\n",
    "path=f\"gs://{bucket_name}/csv-reddit-comments/000000000033.csv\""
   ]
  },
  {
   "cell_type": "code",
   "execution_count": 281,
   "id": "5907b4ae-5650-40be-9995-07f260187e7a",
   "metadata": {
    "tags": []
   },
   "outputs": [],
   "source": [
    "df = spark.read\\\n",
    ".option(\"delimiter\", \",\")\\\n",
    ".option(\"multiline\", \"true\")\\\n",
    ".option(\"quote\", '\"')\\\n",
    " .option(\"header\", \"true\")\\\n",
    ".option(\"escape\", \"\\\\\")\\\n",
    ".option(\"escape\", '\"')\\\n",
    ".csv(path)"
   ]
  },
  {
   "cell_type": "code",
   "execution_count": 282,
   "id": "d4380b6f-8973-422b-9c7a-02e32ef39375",
   "metadata": {
    "tags": []
   },
   "outputs": [],
   "source": [
    "df = df.drop(\"score_hidden\")\n",
    "df = df.drop(\"archived\")\n",
    "df = df.drop(\"name\")\n",
    "df = df.drop(\"author_flair_text\")\n",
    "df = df.drop(\"downs\")\n",
    "df = df.drop(\"subreddit_id\")\n",
    "df = df.drop(\"link_id\")\n",
    "df = df.drop(\"retrieved_on\")\n",
    "df = df.drop(\"link_id\")\n",
    "df = df.drop(\"id\")\n",
    "df = df.drop(\"ups\")\n",
    "df = df.drop(\"distinguished\")\n",
    "df = df.drop(\"author_flair_css_class\")"
   ]
  },
  {
   "cell_type": "code",
   "execution_count": 283,
   "id": "1277dccc-e6cd-45e0-814c-69d57eee7821",
   "metadata": {
    "tags": []
   },
   "outputs": [],
   "source": [
    "df = df.filter(df.body!='[deleted]')\n",
    "df = df.filter(df.body!='[removed]')"
   ]
  },
  {
   "cell_type": "code",
   "execution_count": 284,
   "id": "31143b99-2c64-4ca5-9101-98461263512d",
   "metadata": {
    "tags": []
   },
   "outputs": [],
   "source": [
    "df = df.filter(df.author!='[deleted]')\n",
    "df = df.filter(df.author!='FanfictionBot')\n",
    "df = df.filter(df.author!='SnapshillBot')\n",
    "df = df.filter(df.author!='hit_bot')\n",
    "df = df.filter(df.author!='Roboragi')\n",
    "\n",
    "df = df.filter(df.author!='AutoModerator')\n",
    "df = df.filter(df.author!='WritingPromptsRobot')\n",
    "\n",
    "df = df.filter(df.author.rlike('(?!_bot)'))\n",
    "df = df.filter(df.author.rlike('(?!_Bot)'))\n",
    "df = df.filter(df.author.rlike('(?!Bot)'))\n",
    "df = df.filter(df.author.rlike('(?!-Bot)'))\n",
    "df = df.filter(df.author.rlike('(?!-bot)'))\n"
   ]
  },
  {
   "cell_type": "code",
   "execution_count": 285,
   "id": "85aa2685-7d6d-417e-96b8-c84ee382a49c",
   "metadata": {
    "tags": []
   },
   "outputs": [],
   "source": [
    "df = df.filter(df.subreddit!='4chan4trump')\n",
    "df = df.filter(df.subreddit!='testingground4bots')\n",
    "df = df.filter(df.subreddit!='MemeEconomy')\n",
    "df = df.filter(df.subreddit!='HPfanfiction')\n",
    "df = df.filter(df.subreddit!='ParisComments')\n",
    "df = df.filter(df.subreddit!='newsokuvip')\n",
    "df = df.filter(df.subreddit!='kickopenthedoor')\n",
    "df = df.filter(df.subreddit!='copypasta')\n",
    "df = df.filter(df.subreddit!='AMAAggregator')\n",
    "\n",
    "df = df.filter(df.subreddit!='ModerationLog')\n",
    "df = df.filter(df.subreddit.rlike('(?!Aggregator)'))\n",
    "df = df.filter(df.subreddit.rlike('(?!aggregator)'))\n",
    "df = df.filter(df.subreddit.rlike('(?!log)'))\n",
    "df = df.filter(df.subreddit.rlike('(?!Log)'))\n"
   ]
  },
  {
   "cell_type": "code",
   "execution_count": 286,
   "id": "30400aa5-6eac-4d80-9918-0c4f0d2e414a",
   "metadata": {
    "tags": []
   },
   "outputs": [],
   "source": [
    "(train_df,test_df) = df.randomSplit((0.2,0.8),seed=98)"
   ]
  },
  {
   "cell_type": "code",
   "execution_count": 256,
   "id": "412de5a3-fba3-4f98-9d2a-ad262fb5021d",
   "metadata": {
    "tags": []
   },
   "outputs": [
    {
     "name": "stdout",
     "output_type": "stream",
     "text": [
      "['x', 'y', 'your', 'yours', 'yourself', 'yourselves', 'you', 'yond', 'yonder', 'yon', 'ye', 'yet', 'z', 'zillion', 'j', 'u', 'umpteen', 'usually', 'us', 'username', 'uponed', 'upons', 'uponing', 'upon', 'ups', 'upping', 'upped', 'up', 'unto', 'until', 'unless', 'unlike', 'unliker', 'unlikest', 'under', 'underneath', 'use', 'used', 'usedest', 'r', 'rath', 'rather', 'rathest', 'rathe', 're', 'relate', 'related', 'relatively', 'regarding', 'really', 'res', 'respecting', 'respectively', 'q', 'quite', 'que', 'qua', 'n', 'neither', 'neaths', 'neath', 'nethe', 'nethermost', 'necessary', 'necessariest', 'necessarier', 'never', 'nevertheless', 'nigh', 'nighest', 'nigher', 'nine', 'noone', 'nobody', 'nobodies', 'nowhere', 'nowheres', 'no', 'noes', 'nor', 'nos', 'no-one', 'none', 'not', 'notwithstanding', 'nothings', 'nothing', 'nathless', 'natheless', 't', 'ten', 'tills', 'till', 'tilled', 'tilling', 'to', 'towards', 'toward', 'towardest', 'towarder', 'together', 'too', 'thy', 'thyself', 'thus', 'than', 'that', 'those', 'thou', 'though', 'thous', 'thouses', 'thoroughest', 'thorougher', 'thorough', 'thoroughly', 'thru', 'thruer', 'thruest', 'thro', 'through', 'throughout', 'throughest', 'througher', 'thine', 'this', 'thises', 'they', 'thee', 'the', 'then', 'thence', 'thenest', 'thener', 'them', 'themselves', 'these', 'therer', 'there', 'thereby', 'therest', 'thereafter', 'therein', 'thereupon', 'therefore', 'their', 'theirs', 'thing', 'things', 'three', 'two', 'o', 'oh', 'owt', 'owning', 'owned', 'own', 'owns', 'others', 'other', 'otherwise', 'otherwisest', 'otherwiser', 'of', 'often', 'oftener', 'oftenest', 'off', 'offs', 'offest', 'one', 'ought', 'oughts', 'our', 'ours', 'ourselves', 'ourself', 'out', 'outest', 'outed', 'outwith', 'outs', 'outside', 'over', 'overallest', 'overaller', 'overalls', 'overall', 'overs', 'or', 'orer', 'orest', 'on', 'oneself', 'onest', 'ons', 'onto', 'a', 'atween', 'at', 'athwart', 'atop', 'afore', 'afterward', 'afterwards', 'after', 'afterest', 'afterer', 'ain', 'an', 'any', 'anything', 'anybody', 'anyone', 'anyhow', 'anywhere', 'anent', 'anear', 'and', 'andor', 'another', 'around', 'ares', 'are', 'aest', 'aer', 'against', 'again', 'accordingly', 'abaft', 'abafter', 'abaftest', 'abovest', 'above', 'abover', 'abouter', 'aboutest', 'about', 'aid', 'amidst', 'amid', 'among', 'amongst', 'apartest', 'aparter', 'apart', 'appeared', 'appears', 'appear', 'appearing', 'appropriating', 'appropriate', 'appropriatest', 'appropriates', 'appropriater', 'appropriated', 'already', 'always', 'also', 'along', 'alongside', 'although', 'almost', 'all', 'allest', 'aller', 'allyou', 'alls', 'albeit', 'awfully', 'as', 'aside', 'asides', 'aslant', 'ases', 'astrider', 'astride', 'astridest', 'astraddlest', 'astraddler', 'astraddle', 'availablest', 'availabler', 'available', 'aughts', 'aught', 'vs', 'v', 'variousest', 'variouser', 'various', 'via', 'vis-a-vis', 'vis-a-viser', 'vis-a-visest', 'viz', 'very', 'veriest', 'verier', 'versus', 'k', 'g', 'go', 'gone', 'good', 'got', 'gotta', 'gotten', 'get', 'gets', 'getting', 'b', 'by', 'byandby', 'by-and-by', 'bist', 'both', 'but', 'buts', 'be', 'beyond', 'because', 'became', 'becomes', 'become', 'becoming', 'becomings', 'becominger', 'becomingest', 'behind', 'behinds', 'before', 'beforehand', 'beforehandest', 'beforehander', 'bettered', 'betters', 'better', 'bettering', 'betwixt', 'between', 'beneath', 'been', 'below', 'besides', 'beside', 'm', 'my', 'myself', 'mucher', 'muchest', 'much', 'must', 'musts', 'musths', 'musth', 'main', 'make', 'mayest', 'many', 'mauger', 'maugre', 'me', 'meanwhiles', 'meanwhile', 'mostly', 'most', 'moreover', 'more', 'might', 'mights', 'midst', 'midsts', 'h', 'huh', 'humph', 'he', 'hers', 'herself', 'her', 'hereby', 'herein', 'hereafters', 'hereafter', 'hereupon', 'hence', 'hadst', 'had', 'having', 'haves', 'have', 'has', 'hast', 'hardly', 'hae', 'hath', 'him', 'himself', 'hither', 'hitherest', 'hitherer', 'his', 'how-do-you-do', 'however', 'how', 'howbeit', 'howdoyoudo', 'hoos', 'hoo', 'w', 'woulded', 'woulding', 'would', 'woulds', 'was', 'wast', 'we', 'wert', 'were', 'with', 'withal', 'without', 'within', 'why', 'what', 'whatever', 'whateverer', 'whateverest', 'whatsoeverer', 'whatsoeverest', 'whatsoever', 'whence', 'whencesoever', 'whenever', 'whensoever', 'when', 'whenas', 'whether', 'wheen', 'whereto', 'whereupon', 'wherever', 'whereon', 'whereof', 'where', 'whereby', 'wherewithal', 'wherewith', 'whereinto', 'wherein', 'whereafter', 'whereas', 'wheresoever', 'wherefrom', 'which', 'whichever', 'whichsoever', 'whilst', 'while', 'whiles', 'whithersoever', 'whither', 'whoever', 'whosoever', 'whoso', 'whose', 'whomever', 's', 'syne', 'syn', 'shalling', 'shall', 'shalled', 'shalls', 'shoulding', 'should', 'shoulded', 'shoulds', 'she', 'sayyid', 'sayid', 'said', 'saider', 'saidest', 'same', 'samest', 'sames', 'samer', 'saved', 'sans', 'sanses', 'sanserifs', 'sanserif', 'so', 'soer', 'soest', 'sobeit', 'someone', 'somebody', 'somehow', 'some', 'somewhere', 'somewhat', 'something', 'sometimest', 'sometimes', 'sometimer', 'sometime', 'several', 'severaler', 'severalest', 'serious', 'seriousest', 'seriouser', 'senza', 'send', 'sent', 'seem', 'seems', 'seemed', 'seemingest', 'seeminger', 'seemings', 'seven', 'summat', 'sups', 'sup', 'supping', 'supped', 'such', 'since', 'sine', 'sines', 'sith', 'six', 'stop', 'stopped', 'p', 'plaintiff', 'plenty', 'plenties', 'please', 'pleased', 'pleases', 'per', 'perhaps', 'particulars', 'particularly', 'particular', 'particularest', 'particularer', 'pro', 'providing', 'provides', 'provided', 'provide', 'probably', 'l', 'layabout', 'layabouts', 'latter', 'latterest', 'latterer', 'latterly', 'latters', 'lots', 'lotting', 'lotted', 'lot', 'lest', 'less', 'ie', 'ifs', 'if', 'i', 'info', 'information', 'itself', 'its', 'it', 'is', 'idem', 'idemer', 'idemest', 'immediate', 'immediately', 'immediatest', 'immediater', 'in', 'inwards', 'inwardest', 'inwarder', 'inward', 'inasmuch', 'into', 'instead', 'insofar', 'indicates', 'indicated', 'indicate', 'indicating', 'indeed', 'inc', 'f', 'fact', 'facts', 'fs', 'figupon', 'figupons', 'figuponing', 'figuponed', 'few', 'fewer', 'fewest', 'frae', 'from', 'failing', 'failings', 'five', 'furthers', 'furtherer', 'furthered', 'furtherest', 'further', 'furthering', 'furthermore', 'fourscore', 'followthrough', 'for', 'forwhy', 'fornenst', 'formerly', 'former', 'formerer', 'formerest', 'formers', 'forbye', 'forby', 'fore', 'forever', 'forer', 'fores', 'four', 'd', 'ddays', 'dday', 'do', 'doing', 'doings', 'doe', 'does', 'doth', 'downwarder', 'downwardest', 'downward', 'downwards', 'downs', 'done', 'doner', 'dones', 'donest', 'dos', 'dost', 'did', 'differentest', 'differenter', 'different', 'describing', 'describe', 'describes', 'described', 'despiting', 'despites', 'despited', 'despite', 'during', 'c', 'cum', 'circa', 'chez', 'cer', 'certain', 'certainest', 'certainer', 'cest', 'canst', 'cannot', 'cant', 'cants', 'canting', 'cantest', 'canted', 'co', 'could', 'couldst', 'comeon', 'comeons', 'come-ons', 'come-on', 'concerning', 'concerninger', 'concerningest', 'consequently', 'considering', 'e', 'eg', 'eight', 'either', 'even', 'evens', 'evenser', 'evensest', 'evened', 'evenest', 'ever', 'everyone', 'everything', 'everybody', 'everywhere', 'every', 'ere', 'each', 'et', 'etc', 'elsewhere', 'else', 'ex', 'excepted', 'excepts', 'except', 'excepting', 'exes', 'enough', 'will', 'own', 's', 'now', '#', '##', '###', '####', '#####', '&gt;', '&gt;but', '&gt;can', '&gt;oh', '*', '**', '***', '****', '&amp;', '#&amp;', 'nbsp;', '&amp;nbsp;', '&gt;&gt;', '&gt;*;', '**off-topic', 'edit', 'edit:', '1', '2', '3', '4', '5', '6', '7', '8', '9', '0', '', '\"\"', \"''\", '?', '!', '@', '#', '$', '%', '^', '&', '*', '(', ')', '#&amp;', '#&amp;nbsp;']\n"
     ]
    }
   ],
   "source": [
    "stop_wrd_list = []\n",
    "with open('/home/jovyan/work/pyspark-work/stopwords.txt', 'r') as file:\n",
    "    for line in file:\n",
    "        stop_wrd_list.append(line.strip())\n",
    "print(stop_wrd_list)"
   ]
  },
  {
   "cell_type": "code",
   "execution_count": 292,
   "id": "9cc5a1ae-f10f-4746-8351-9336fa72c39c",
   "metadata": {
    "tags": []
   },
   "outputs": [],
   "source": [
    "from pyspark.ml.feature import Tokenizer,StopWordsRemover,CountVectorizer,IDF\n",
    "from pyspark.ml.feature import StringIndexer\n",
    "from pyspark.ml.clustering import KMeans\n",
    "from pyspark.ml.evaluation import ClusteringEvaluator\n",
    "from pyspark.ml import Pipeline\n",
    "import numpy as np \n",
    "import pandas as pd"
   ]
  },
  {
   "cell_type": "code",
   "execution_count": 293,
   "id": "9c004365-6087-415c-bfa3-256bb53e5236",
   "metadata": {
    "tags": []
   },
   "outputs": [],
   "source": [
    "tokenizer = Tokenizer(inputCol='body',outputCol='tokenized_body')\n",
    "tokenize_result = tokenizer.transform(train_df)"
   ]
  },
  {
   "cell_type": "code",
   "execution_count": 294,
   "id": "c633ea02-bb5c-4c85-83c6-24386c910be4",
   "metadata": {
    "tags": []
   },
   "outputs": [
    {
     "data": {
      "text/plain": [
       "StopWordsRemover_59b82873eac8"
      ]
     },
     "execution_count": 294,
     "metadata": {},
     "output_type": "execute_result"
    }
   ],
   "source": [
    "stopwords_remover = StopWordsRemover(inputCol=tokenizer.getOutputCol(), outputCol='filtered_body_tokens')\n",
    "stopwords_remover.setStopWords(stop_wrd_list)"
   ]
  },
  {
   "cell_type": "code",
   "execution_count": 295,
   "id": "91987534-78b0-4f48-bf7f-cbc205f285c6",
   "metadata": {
    "tags": []
   },
   "outputs": [
    {
     "name": "stdout",
     "output_type": "stream",
     "text": [
      "+--------------------+---------------+-----------+----------+-----+----------------+------+----------------+--------------------+--------------------+\n",
      "|                body|         author|created_utc| parent_id|score|controversiality|gilded|       subreddit|      tokenized_body|filtered_body_tokens|\n",
      "+--------------------+---------------+-----------+----------+-----+----------------+------+----------------+--------------------+--------------------+\n",
      "|\\n\\n\\n\\n\\n\\n\\n\\n\\...|       jivatman| 1573694257|t1_f7g35on|    2|               0|     0|    Conservative|[, , , , , , , , ...|[left-wing, blog,...|\n",
      "|\\n\\n\\n\\n\\n\\n\\n\\nN...|    kettleman10| 1411809395|t1_cktsig6|    1|               0|     0|           anime|[, , , , , , , , ...|[gintama, makes, ...|\n",
      "|\\n\\n\\n\\nI've adde...|ShockTrooper262| 1548471385| t3_ajvhr5|    4|               0|     0|ShitWehraboosSay|[, , , , i've, ad...|[i've, added, stu...|\n",
      "|\\n\\n\\n\\nNice game...|    Spudmiester| 1534770541| t3_98q9g0|    3|               0|     0|             eu4|[, , , , nice, ga...|[nice, game., jap...|\n",
      "|\\n\\n\\n\\n[The OP w...|    el___diablo| 1419168074|t1_cn18gs1|   25|               0|     0|            pics|[, , , , [the, op...|[[the, op, dog.](...|\n",
      "|\\n\\n    UFC on Fo...|   UnsafeReload| 1492286357| t3_64yz6o|    9|               0|     0|      sportsbook|[, , , , , , ufc,...|[ufc, fox, 24, ri...|\n",
      "|\\n\\n  This submis...| StabbyStabStab| 1381982640| t3_1omfkg|    0|               0|     0|        AskWomen|[, , , , this, su...|[submission, remo...|\n",
      "|\\n\\n  Your submis...|     TheJackal8| 1395794032| t3_21dd5v|    1|               0|     0|        facepalm|[, , , , your, su...|[submission, remo...|\n",
      "|\\n\\n - [“A report...|       -Natsoc-| 1551844188|t1_ehuwqaj|    2|               0|     0|       worldnews|[, , , -, [“a, re...|[-, [“a, report, ...|\n",
      "|\\n\\n&gt;  far be ...|       AyeHumps| 1501641299|t1_dl1jn2t|    5|               0|     0|        ftfanime|[, , &gt;, , far,...|[far, i'll, posti...|\n",
      "+--------------------+---------------+-----------+----------+-----+----------------+------+----------------+--------------------+--------------------+\n",
      "only showing top 10 rows\n",
      "\n"
     ]
    }
   ],
   "source": [
    "result = stopwords_remover.transform(tokenize_result).show(10)"
   ]
  },
  {
   "cell_type": "code",
   "execution_count": 296,
   "id": "439605e4-135c-4cfe-9d7b-d5bbfec1f8dd",
   "metadata": {
    "tags": []
   },
   "outputs": [],
   "source": [
    "vectorizer = CountVectorizer(inputCol='filtered_body_tokens',outputCol='body_features_raw')\n",
    "idf = IDF(inputCol='body_features_raw',outputCol='vectorized_body_features')"
   ]
  },
  {
   "cell_type": "code",
   "execution_count": 299,
   "id": "81490995-8dc9-4ee1-ab72-ad8f48d43694",
   "metadata": {
    "tags": []
   },
   "outputs": [],
   "source": [
    "numIterations = 2400\n",
    "cost = np.zeros(10)\n",
    "for k in range(2,4):\n",
    "    kmeans = KMeans().setK(k).setSeed(1).setFeaturesCol('vectorized_body_features').setMaxIter(numIterations)\n",
    "    pipeline = Pipeline(stages=[tokenizer,stopwords_remover,vectorizer,idf,kmeans])\n",
    "    kmeans_model = pipeline.fit(train_df)\n",
    "    cost[k] = kmeans_model.stages[-1].summary.trainingCost"
   ]
  },
  {
   "cell_type": "code",
   "execution_count": 300,
   "id": "b1b1b4cd-b526-4498-b492-16c203aca517",
   "metadata": {
    "tags": []
   },
   "outputs": [
    {
     "data": {
      "image/png": "[encoded data removed]",
      "text/plain": [
       "<Figure size 640x480 with 1 Axes>"
      ]
     },
     "metadata": {},
     "output_type": "display_data"
    }
   ],
   "source": [
    "df_cost = pd.DataFrame(cost[2:])\n",
    "df_cost.columns = [\"cost\"]\n",
    "new_col = [2,3,4,5,6,7,8, 9]\n",
    "df_cost.insert(0, 'cluster', new_col)\n",
    "\n",
    "import pylab as pl\n",
    "pl.plot(df_cost.cluster, df_cost.cost)\n",
    "pl.xlabel('Number of Clusters')\n",
    "pl.ylabel('Score')\n",
    "pl.title('Elbow Curve')\n",
    "pl.show()"
   ]
  },
  {
   "cell_type": "code",
   "execution_count": 263,
   "id": "df701107-5e38-4f2f-8079-c3bcdd480897",
   "metadata": {
    "tags": []
   },
   "outputs": [],
   "source": [
    "numIterations = 2000\n",
    "numberClusters = 4\n",
    "kmeans = KMeans(featuresCol='vectorized_body_features').setMaxIter(numIterations).setK(numberClusters).setSeed(13)"
   ]
  },
  {
   "cell_type": "code",
   "execution_count": 264,
   "id": "ad9c1c2a-5f98-4c5b-8f0e-5b82dabb6256",
   "metadata": {
    "tags": []
   },
   "outputs": [],
   "source": [
    "pipeline = Pipeline(stages=[tokenizer,stopwords_remover,vectorizer,idf,kmeans])"
   ]
  },
  {
   "cell_type": "code",
   "execution_count": 266,
   "id": "efd4f5eb-31a7-491f-9498-3864263ea3f1",
   "metadata": {
    "tags": []
   },
   "outputs": [],
   "source": [
    "kmeans_model = pipeline.fit(train_df)"
   ]
  },
  {
   "cell_type": "code",
   "execution_count": 268,
   "id": "efd7669e-cd32-4c4d-8aaf-10502a78af6c",
   "metadata": {
    "tags": []
   },
   "outputs": [],
   "source": [
    "predictions = kmeans_model.transform(test_df)"
   ]
  }
 ],
 "metadata": {
  "kernelspec": {
   "display_name": "Python 3 (ipykernel)",
   "language": "python",
   "name": "python3"
  },
  "language_info": {
   "codemirror_mode": {
    "name": "ipython",
    "version": 3
   },
   "file_extension": ".py",
   "mimetype": "text/x-python",
   "name": "python",
   "nbconvert_exporter": "python",
   "pygments_lexer": "ipython3",
   "version": "3.10.9"
  }
 },
 "nbformat": 4,
 "nbformat_minor": 5
}
